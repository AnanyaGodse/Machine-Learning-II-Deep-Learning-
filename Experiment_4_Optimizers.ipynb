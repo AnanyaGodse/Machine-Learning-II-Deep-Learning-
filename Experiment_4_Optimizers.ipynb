{
  "nbformat": 4,
  "nbformat_minor": 0,
  "metadata": {
    "colab": {
      "provenance": [],
      "authorship_tag": "ABX9TyO1eBJpT8uWxpLXn8hl932y",
      "include_colab_link": true
    },
    "kernelspec": {
      "name": "python3",
      "display_name": "Python 3"
    },
    "language_info": {
      "name": "python"
    }
  },
  "cells": [
    {
      "cell_type": "markdown",
      "metadata": {
        "id": "view-in-github",
        "colab_type": "text"
      },
      "source": [
        "<a href=\"https://colab.research.google.com/github/AnanyaGodse/Machine-Learning-II-Deep-Learning-/blob/main/Experiment_4_Optimizers.ipynb\" target=\"_parent\"><img src=\"https://colab.research.google.com/assets/colab-badge.svg\" alt=\"Open In Colab\"/></a>"
      ]
    },
    {
      "cell_type": "code",
      "execution_count": null,
      "metadata": {
        "id": "BIZK-VZZpSKY"
      },
      "outputs": [],
      "source": [
        "import tensorflow as tf\n",
        "from tensorflow.keras.datasets import mnist\n",
        "from tensorflow.keras.models import Sequential\n",
        "from tensorflow.keras.layers import Dense, Flatten\n",
        "from tensorflow.keras.utils import to_categorical"
      ]
    },
    {
      "cell_type": "code",
      "source": [
        "# Loading the MNIST dataset\n",
        "(x_train, y_train), (x_test, y_test) = mnist.load_data()\n",
        "x_train, x_test = x_train / 255.0, x_test / 255.0  # Normalizing the data\n",
        "y_train, y_test = to_categorical(y_train), to_categorical(y_test)"
      ],
      "metadata": {
        "id": "ip_3A8repZJE"
      },
      "execution_count": null,
      "outputs": []
    },
    {
      "cell_type": "code",
      "source": [
        "# Defining a simple neural network\n",
        "def create_model(optimizer):\n",
        "    model = Sequential([\n",
        "        Flatten(input_shape=(28, 28)),\n",
        "        Dense(128, activation='relu'),\n",
        "        Dense(10, activation='softmax')\n",
        "    ])\n",
        "    model.compile(optimizer=optimizer, loss='categorical_crossentropy', metrics=['accuracy'])\n",
        "    return model"
      ],
      "metadata": {
        "id": "oL159yVDpgLt"
      },
      "execution_count": null,
      "outputs": []
    },
    {
      "cell_type": "code",
      "source": [
        "# Hyperparameters\n",
        "batch_size = 32\n",
        "epochs = 10"
      ],
      "metadata": {
        "id": "oV15vX2Rp6Cb"
      },
      "execution_count": null,
      "outputs": []
    },
    {
      "cell_type": "code",
      "source": [
        "# Define optimizers\n",
        "optimizers = {\n",
        "    \"Gradient Descent\": tf.keras.optimizers.SGD(learning_rate=0.01, momentum=0.0),\n",
        "    \"Stochastic Gradient Descent\": tf.keras.optimizers.SGD(),\n",
        "    \"SGD with Momentum\": tf.keras.optimizers.SGD(momentum=0.9),\n",
        "    \"Mini-Batch Gradient Descent\": tf.keras.optimizers.SGD(),\n",
        "    \"Adagrad\": tf.keras.optimizers.Adagrad(),\n",
        "    \"RMSProp\": tf.keras.optimizers.RMSprop(),\n",
        "    \"AdaDelta\": tf.keras.optimizers.Adadelta(),\n",
        "    \"Adam\": tf.keras.optimizers.Adam(),\n",
        "}"
      ],
      "metadata": {
        "id": "gfEMWHnRpr3J"
      },
      "execution_count": null,
      "outputs": []
    },
    {
      "cell_type": "code",
      "source": [
        "# Train and evaluate the model with different optimizers\n",
        "results = {}\n",
        "for name, optimizer in optimizers.items():\n",
        "    print(f\"Training with optimizer: {name}\")\n",
        "    model = create_model(optimizer)\n",
        "    model.fit(x_train, y_train, batch_size=batch_size, epochs=epochs, verbose=0)\n",
        "    test_loss, test_accuracy = model.evaluate(x_test, y_test, verbose=0)\n",
        "    results[name] = (test_loss, test_accuracy)"
      ],
      "metadata": {
        "colab": {
          "base_uri": "https://localhost:8080/"
        },
        "id": "7m9ZY3kqpvhk",
        "outputId": "987a4d41-5da2-4226-bfdc-12e5231eb613"
      },
      "execution_count": null,
      "outputs": [
        {
          "output_type": "stream",
          "name": "stdout",
          "text": [
            "Training with optimizer: Gradient Descent\n"
          ]
        },
        {
          "output_type": "stream",
          "name": "stderr",
          "text": [
            "/usr/local/lib/python3.10/dist-packages/keras/src/layers/reshaping/flatten.py:37: UserWarning: Do not pass an `input_shape`/`input_dim` argument to a layer. When using Sequential models, prefer using an `Input(shape)` object as the first layer in the model instead.\n",
            "  super().__init__(**kwargs)\n"
          ]
        },
        {
          "output_type": "stream",
          "name": "stdout",
          "text": [
            "Training with optimizer: Stochastic Gradient Descent\n",
            "Training with optimizer: SGD with Momentum\n",
            "Training with optimizer: Mini-Batch Gradient Descent\n",
            "Training with optimizer: Adagrad\n",
            "Training with optimizer: RMSProp\n",
            "Training with optimizer: AdaDelta\n",
            "Training with optimizer: Adam\n"
          ]
        }
      ]
    },
    {
      "cell_type": "code",
      "source": [
        "# Compare results\n",
        "for optimizer, (loss, accuracy) in results.items():\n",
        "    print(f\"Optimizer: {optimizer}, Test Loss: {loss:.4f}, Test Accuracy: {accuracy:.4f}\")"
      ],
      "metadata": {
        "colab": {
          "base_uri": "https://localhost:8080/"
        },
        "id": "CFRDvjDzpyz_",
        "outputId": "a875844f-672b-4e3f-fc6e-f2b4388c8949"
      },
      "execution_count": null,
      "outputs": [
        {
          "output_type": "stream",
          "name": "stdout",
          "text": [
            "Optimizer: Gradient Descent, Test Loss: 0.1669, Test Accuracy: 0.9530\n",
            "Optimizer: Stochastic Gradient Descent, Test Loss: 0.1627, Test Accuracy: 0.9524\n",
            "Optimizer: SGD with Momentum, Test Loss: 0.0687, Test Accuracy: 0.9791\n",
            "Optimizer: Mini-Batch Gradient Descent, Test Loss: 0.1603, Test Accuracy: 0.9528\n",
            "Optimizer: Adagrad, Test Loss: 0.3226, Test Accuracy: 0.9142\n",
            "Optimizer: RMSProp, Test Loss: 0.0846, Test Accuracy: 0.9781\n",
            "Optimizer: AdaDelta, Test Loss: 1.0357, Test Accuracy: 0.7966\n",
            "Optimizer: Adam, Test Loss: 0.0820, Test Accuracy: 0.9796\n"
          ]
        }
      ]
    },
    {
      "cell_type": "markdown",
      "source": [
        "<pre>\n",
        "1. Gradient Descent\n",
        "Advantages: Simple and converges to the global minimum for convex functions.\n",
        "Disadvantages: Slow convergence and sensitive to learning rate.\n",
        "\n",
        "2. Stochastic Gradient Descent (SGD)\n",
        "Advantages: Faster updates lead to quicker convergence.\n",
        "Disadvantages: High variance can cause oscillations.\n",
        "\n",
        "3. SGD with Momentum\n",
        "Advantages: Accelerates convergence and reduces oscillations.\n",
        "Disadvantages: Requires tuning of the momentum hyperparameter.\n",
        "\n",
        "4. Mini-Batch Gradient Descent\n",
        "Advantages: Balances efficiency and stability in updates.\n",
        "Disadvantages: Choosing the right batch size can be tricky.\n",
        "\n",
        "5. Adagrad\n",
        "Advantages: Adapts learning rates for sparse data.\n",
        "Disadvantages: Learning rate can diminish too quickly.\n",
        "\n",
        "6. RMSProp\n",
        "Advantages: Adapts learning rates, effective for non-stationary objectives.\n",
        "Disadvantages: Requires tuning of decay rate.\n",
        "\n",
        "7. AdaDelta\n",
        "Advantages: Addresses diminishing learning rates from Adagrad.\n",
        "Disadvantages: More complex and can converge slower.\n",
        "\n",
        "8. Adam\n",
        "Advantages: Combines benefits of momentum and RMSProp for fast convergence.\n",
        "Disadvantages: Can complicate tuning with multiple hyperparameters.\n",
        "</pre>\n"
      ],
      "metadata": {
        "id": "XbpsiMOUukEM"
      }
    },
    {
      "cell_type": "markdown",
      "source": [
        "**Conclusion:**\n",
        "Adam and SGD with Momentum had the best test accuracy and lowest loss."
      ],
      "metadata": {
        "id": "B7wJ4XDouHZw"
      }
    }
  ]
}