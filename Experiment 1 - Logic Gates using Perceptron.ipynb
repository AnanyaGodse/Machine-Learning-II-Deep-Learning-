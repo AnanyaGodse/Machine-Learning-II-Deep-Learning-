{
 "cells": [
  {
   "cell_type": "markdown",
   "id": "f91be392",
   "metadata": {},
   "source": [
    "**Name: Ananya Godse SAP ID: 60009220161 Batch: D1-1**"
   ]
  },
  {
   "cell_type": "markdown",
   "id": "037a81f2",
   "metadata": {},
   "source": [
    "## Lab 1 - Implementation of Boolean Gates using Perceptron"
   ]
  },
  {
   "cell_type": "code",
   "execution_count": 1,
   "id": "31b2ae49",
   "metadata": {},
   "outputs": [],
   "source": [
    "import numpy as np"
   ]
  },
  {
   "cell_type": "markdown",
   "id": "62378af6",
   "metadata": {},
   "source": [
    "**Defining the activation function:**"
   ]
  },
  {
   "cell_type": "code",
   "execution_count": 2,
   "id": "0c177808",
   "metadata": {},
   "outputs": [],
   "source": [
    "def activation(v):\n",
    "    if v >= 0:\n",
    "        return 1\n",
    "    else:\n",
    "        return 0\n",
    "        "
   ]
  },
  {
   "cell_type": "markdown",
   "id": "fa1f79f8",
   "metadata": {},
   "source": [
    "**Defining the perceptron function:**"
   ]
  },
  {
   "cell_type": "code",
   "execution_count": 3,
   "id": "c7510e84",
   "metadata": {},
   "outputs": [],
   "source": [
    "def perceptron(x, w, b):\n",
    "    v = np.dot(w, x) + b\n",
    "    y = activation(v)\n",
    "    return y"
   ]
  },
  {
   "cell_type": "markdown",
   "id": "c012dfb6",
   "metadata": {},
   "source": [
    "**Defining the AND gate function:**"
   ]
  },
  {
   "cell_type": "code",
   "execution_count": 4,
   "id": "893b46cd",
   "metadata": {},
   "outputs": [],
   "source": [
    "def and_gate(x):\n",
    "    w = np.array([1, 1])\n",
    "    b = -1.5\n",
    "    y = perceptron(x, w, b)\n",
    "    return y\n"
   ]
  },
  {
   "cell_type": "markdown",
   "id": "e84137b8",
   "metadata": {},
   "source": [
    "**Defining the OR gate function:**"
   ]
  },
  {
   "cell_type": "code",
   "execution_count": 5,
   "id": "decd5d6e",
   "metadata": {},
   "outputs": [],
   "source": [
    "def or_gate(x):\n",
    "    w = np.array([1, 1])\n",
    "    b = -0.5\n",
    "    y = perceptron(x, w, b)\n",
    "    return y"
   ]
  },
  {
   "cell_type": "markdown",
   "id": "6a6a20ef",
   "metadata": {},
   "source": [
    "**Defining the NOT gate function:**"
   ]
  },
  {
   "cell_type": "code",
   "execution_count": 6,
   "id": "051b9acc",
   "metadata": {},
   "outputs": [],
   "source": [
    "def not_gate(x):\n",
    "    w = np.array([-1])\n",
    "    b = 0.5\n",
    "    y = perceptron(x, w, b)\n",
    "    return y\n",
    "    "
   ]
  },
  {
   "cell_type": "markdown",
   "id": "d31b663e",
   "metadata": {},
   "source": [
    "**Defining the NAND gate function:**"
   ]
  },
  {
   "cell_type": "code",
   "execution_count": 7,
   "id": "49d6c987",
   "metadata": {},
   "outputs": [],
   "source": [
    "def nand_gate(x):\n",
    "    y_and = and_gate(x) \n",
    "    y_not = not_gate(np.array([y_and]))\n",
    "    return y_not"
   ]
  },
  {
   "cell_type": "markdown",
   "id": "a161d35d",
   "metadata": {},
   "source": [
    "**Defining the NOR gate function:**"
   ]
  },
  {
   "cell_type": "code",
   "execution_count": 8,
   "id": "7246eadf",
   "metadata": {},
   "outputs": [],
   "source": [
    "def nor_gate(x):\n",
    "    y_or = or_gate(x) \n",
    "    y_not = not_gate(np.array([y_or]))\n",
    "    return y_not"
   ]
  },
  {
   "cell_type": "markdown",
   "id": "f3727023",
   "metadata": {},
   "source": [
    "**Defining the XOR gate function:**"
   ]
  },
  {
   "cell_type": "code",
   "execution_count": 9,
   "id": "fb6a8f80",
   "metadata": {},
   "outputs": [],
   "source": [
    "def xor_gate(x):\n",
    "    y_and = and_gate(x)\n",
    "    y_or = or_gate(x)\n",
    "    y_not = not_gate(y_and)\n",
    "    new_x = np.array([y_or, y_not])\n",
    "    y = and_gate(new_x)\n",
    "    return y"
   ]
  },
  {
   "cell_type": "code",
   "execution_count": 10,
   "id": "b91afc5c",
   "metadata": {},
   "outputs": [],
   "source": [
    "inputs = [[0, 0], [0, 1], [1, 0], [1, 1]]"
   ]
  },
  {
   "cell_type": "markdown",
   "id": "6ba0643a",
   "metadata": {},
   "source": [
    "**AND GATE:**"
   ]
  },
  {
   "cell_type": "code",
   "execution_count": 11,
   "id": "be3c08c7",
   "metadata": {
    "scrolled": true
   },
   "outputs": [
    {
     "name": "stdout",
     "output_type": "stream",
     "text": [
      "AND Gate\n",
      "X1 \t X2 \t Y\n",
      "0 \t 0 \t 0\n",
      "0 \t 1 \t 0\n",
      "1 \t 0 \t 0\n",
      "1 \t 1 \t 1\n"
     ]
    }
   ],
   "source": [
    "print(\"AND Gate\")\n",
    "print(\"X1 \\t X2 \\t Y\")\n",
    "for x in inputs:\n",
    "    y = and_gate(np.array(x))\n",
    "    print(f\"{x[0]} \\t {x[1]} \\t {y}\")"
   ]
  },
  {
   "cell_type": "markdown",
   "id": "4b9bd662",
   "metadata": {},
   "source": [
    "**OR GATE:**"
   ]
  },
  {
   "cell_type": "code",
   "execution_count": 12,
   "id": "c894bf97",
   "metadata": {
    "scrolled": true
   },
   "outputs": [
    {
     "name": "stdout",
     "output_type": "stream",
     "text": [
      "OR Gate\n",
      "X1 \t X2 \t Y\n",
      "0 \t 0 \t 0\n",
      "0 \t 1 \t 1\n",
      "1 \t 0 \t 1\n",
      "1 \t 1 \t 1\n"
     ]
    }
   ],
   "source": [
    "print(\"OR Gate\")\n",
    "print(\"X1 \\t X2 \\t Y\")\n",
    "for x in inputs:\n",
    "    y = or_gate(np.array(x))\n",
    "    print(f\"{x[0]} \\t {x[1]} \\t {y}\")"
   ]
  },
  {
   "cell_type": "markdown",
   "id": "8df90220",
   "metadata": {},
   "source": [
    "**NOT GATE:**"
   ]
  },
  {
   "cell_type": "code",
   "execution_count": 13,
   "id": "10c263bf",
   "metadata": {},
   "outputs": [],
   "source": [
    "not_inputs = [0, 1]"
   ]
  },
  {
   "cell_type": "code",
   "execution_count": 14,
   "id": "3034f3ea",
   "metadata": {
    "scrolled": true
   },
   "outputs": [
    {
     "name": "stdout",
     "output_type": "stream",
     "text": [
      "NOT Gate\n",
      "X \t Y\n",
      "0 \t 1\n",
      "1 \t 0\n"
     ]
    }
   ],
   "source": [
    "print(\"NOT Gate\")\n",
    "print(\"X \\t Y\")\n",
    "for x in not_inputs:\n",
    "    y = not_gate(np.array(x))\n",
    "    print(f\"{x} \\t {y}\")"
   ]
  },
  {
   "cell_type": "markdown",
   "id": "e13933ae",
   "metadata": {},
   "source": [
    "**NAND GATE:**"
   ]
  },
  {
   "cell_type": "code",
   "execution_count": 15,
   "id": "1d8002b0",
   "metadata": {
    "scrolled": true
   },
   "outputs": [
    {
     "name": "stdout",
     "output_type": "stream",
     "text": [
      "NAND Gate\n",
      "X1 \t X2 \t Y\n",
      "0 \t 0 \t 1\n",
      "0 \t 1 \t 1\n",
      "1 \t 0 \t 1\n",
      "1 \t 1 \t 0\n"
     ]
    }
   ],
   "source": [
    "print(\"NAND Gate\")\n",
    "print(\"X1 \\t X2 \\t Y\")\n",
    "for x in inputs:\n",
    "    y = nand_gate(np.array(x))\n",
    "    print(f\"{x[0]} \\t {x[1]} \\t {y}\")"
   ]
  },
  {
   "cell_type": "markdown",
   "id": "cbcdb164",
   "metadata": {},
   "source": [
    "**NOR GATE:**"
   ]
  },
  {
   "cell_type": "code",
   "execution_count": 16,
   "id": "9a6db5d6",
   "metadata": {
    "scrolled": true
   },
   "outputs": [
    {
     "name": "stdout",
     "output_type": "stream",
     "text": [
      "NOR Gate\n",
      "X1 \t X2 \t Y\n",
      "0 \t 0 \t 1\n",
      "0 \t 1 \t 0\n",
      "1 \t 0 \t 0\n",
      "1 \t 1 \t 0\n"
     ]
    }
   ],
   "source": [
    "print(\"NOR Gate\")\n",
    "print(\"X1 \\t X2 \\t Y\")\n",
    "for x in inputs:\n",
    "    y = nor_gate(np.array(x))\n",
    "    print(f\"{x[0]} \\t {x[1]} \\t {y}\")"
   ]
  },
  {
   "cell_type": "markdown",
   "id": "d39651f4",
   "metadata": {},
   "source": [
    "**XOR GATE:**"
   ]
  },
  {
   "cell_type": "code",
   "execution_count": 17,
   "id": "3b0753b0",
   "metadata": {},
   "outputs": [
    {
     "name": "stdout",
     "output_type": "stream",
     "text": [
      "XOR Gate\n",
      "X1 \t X2 \t Y\n",
      "0 \t 0 \t 0\n",
      "0 \t 1 \t 1\n",
      "1 \t 0 \t 1\n",
      "1 \t 1 \t 0\n"
     ]
    }
   ],
   "source": [
    "print(\"XOR Gate\")\n",
    "print(\"X1 \\t X2 \\t Y\")\n",
    "for x in inputs:\n",
    "    y = xor_gate(np.array(x))\n",
    "    print(f\"{x[0]} \\t {x[1]} \\t {y}\")"
   ]
  },
  {
   "cell_type": "markdown",
   "id": "c51b9b0a",
   "metadata": {},
   "source": [
    "**Limitations of the Perceptron Model:**\n",
    "\n",
    "* The output of a perceptron can only be a binary number (0 or 1) due to the hard-edge transfer function. \n",
    "* It can only be used to classify the linearly separable sets of input vectors. If the input vectors are non-linear, it is not easy to classify them correctly."
   ]
  }
 ],
 "metadata": {
  "kernelspec": {
   "display_name": "Python 3 (ipykernel)",
   "language": "python",
   "name": "python3"
  },
  "language_info": {
   "codemirror_mode": {
    "name": "ipython",
    "version": 3
   },
   "file_extension": ".py",
   "mimetype": "text/x-python",
   "name": "python",
   "nbconvert_exporter": "python",
   "pygments_lexer": "ipython3",
   "version": "3.11.5"
  }
 },
 "nbformat": 4,
 "nbformat_minor": 5
}
