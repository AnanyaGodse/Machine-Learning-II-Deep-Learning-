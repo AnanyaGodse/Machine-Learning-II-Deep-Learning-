{
  "nbformat": 4,
  "nbformat_minor": 0,
  "metadata": {
    "colab": {
      "provenance": [],
      "gpuType": "V28",
      "authorship_tag": "ABX9TyPtcb6e3HVpYNAc0GK0Zqvn",
      "include_colab_link": true
    },
    "kernelspec": {
      "name": "python3",
      "display_name": "Python 3"
    },
    "language_info": {
      "name": "python"
    },
    "accelerator": "TPU"
  },
  "cells": [
    {
      "cell_type": "markdown",
      "metadata": {
        "id": "view-in-github",
        "colab_type": "text"
      },
      "source": [
        "<a href=\"https://colab.research.google.com/github/AnanyaGodse/Machine-Learning-II-Deep-Learning-/blob/main/Experiment_10_Analysis_of_Transfer_Learning_Perfomance.ipynb\" target=\"_parent\"><img src=\"https://colab.research.google.com/assets/colab-badge.svg\" alt=\"Open In Colab\"/></a>"
      ]
    },
    {
      "cell_type": "markdown",
      "source": [
        "**Name: Ananya Godse SAP ID: 60009220161 Batch: D1-1**"
      ],
      "metadata": {
        "id": "GHSGCaX7-UVN"
      }
    },
    {
      "cell_type": "markdown",
      "source": [
        "#### **LAB 10 - Analysis of Transfer Learning Performance**"
      ],
      "metadata": {
        "id": "N27cssDt-a8X"
      }
    },
    {
      "cell_type": "code",
      "execution_count": null,
      "metadata": {
        "id": "etLlhkGg8DXj"
      },
      "outputs": [],
      "source": [
        "import tensorflow as tf\n",
        "from tensorflow.keras import layers, models\n",
        "from tensorflow.keras.applications import VGG16, InceptionV3, ResNet50\n",
        "from tensorflow.keras.datasets import cifar10\n",
        "from tensorflow.keras.utils import to_categorical\n",
        "import numpy as np\n",
        "import matplotlib.pyplot as plt"
      ]
    },
    {
      "cell_type": "code",
      "source": [
        "# Load the CIFAR 10 dataset\n",
        "(x_train, y_train), (x_test, y_test) = cifar10.load_data()"
      ],
      "metadata": {
        "id": "lCnhhVpL8Hw5",
        "colab": {
          "base_uri": "https://localhost:8080/"
        },
        "outputId": "52535e09-ff95-438f-b77c-e8804921e4b1"
      },
      "execution_count": null,
      "outputs": [
        {
          "output_type": "stream",
          "name": "stdout",
          "text": [
            "Downloading data from https://www.cs.toronto.edu/~kriz/cifar-10-python.tar.gz\n",
            "170498071/170498071 [==============================] - 11s 0us/step\n"
          ]
        }
      ]
    },
    {
      "cell_type": "code",
      "source": [
        "# Normalize pixel values to be between 0 and 1\n",
        "x_train, x_test = x_train / 255.0, x_test / 255.0\n",
        "y_train = to_categorical(y_train, 10)\n",
        "y_test = to_categorical(y_test, 10)"
      ],
      "metadata": {
        "id": "mz8GgtTl8LwA"
      },
      "execution_count": null,
      "outputs": []
    },
    {
      "cell_type": "code",
      "source": [
        "subset_size = 10000\n",
        "x_train_subset = x_train[:subset_size]\n",
        "y_train_subset = y_train[:subset_size]\n",
        "x_train_resized_subset = tf.image.resize(x_train_subset, (224, 224)).numpy()\n",
        "x_test_resized = tf.image.resize(x_test, (224, 224)).numpy()"
      ],
      "metadata": {
        "id": "QPJ9Slj96z8x"
      },
      "execution_count": null,
      "outputs": []
    },
    {
      "cell_type": "code",
      "source": [
        "# 1. LeNet-5\n",
        "def lenet5():\n",
        "    model = models.Sequential()\n",
        "    model.add(layers.Conv2D(6, (5, 5), activation='tanh', input_shape=(32, 32, 3), padding='same'))\n",
        "    model.add(layers.AveragePooling2D())\n",
        "    model.add(layers.Conv2D(16, (5, 5), activation='tanh'))\n",
        "    model.add(layers.AveragePooling2D())\n",
        "    model.add(layers.Flatten())\n",
        "    model.add(layers.Dense(120, activation='tanh'))\n",
        "    model.add(layers.Dense(84, activation='tanh'))\n",
        "    model.add(layers.Dense(10, activation='softmax'))\n",
        "    model.compile(optimizer='adam', loss='categorical_crossentropy', metrics=['accuracy'])\n",
        "    return model"
      ],
      "metadata": {
        "id": "imHGM_nm8YsL"
      },
      "execution_count": null,
      "outputs": []
    },
    {
      "cell_type": "code",
      "source": [
        "# 2. AlexNet\n",
        "def alexnet():\n",
        "    model = models.Sequential()\n",
        "    model.add(layers.Conv2D(64, (3, 3), activation='relu', input_shape=(32, 32, 3), padding='same'))\n",
        "    model.add(layers.MaxPooling2D(pool_size=(2, 2), strides=2))\n",
        "    model.add(layers.Conv2D(128, (3, 3), activation='relu', padding='same'))\n",
        "    model.add(layers.MaxPooling2D(pool_size=(2, 2), strides=2))\n",
        "    model.add(layers.Conv2D(256, (3, 3), activation='relu', padding='same'))\n",
        "    model.add(layers.Conv2D(256, (3, 3), activation='relu', padding='same'))\n",
        "    model.add(layers.Conv2D(128, (3, 3), activation='relu', padding='same'))\n",
        "    model.add(layers.MaxPooling2D(pool_size=(2, 2), strides=2))\n",
        "    model.add(layers.Flatten())\n",
        "    model.add(layers.Dense(1024, activation='relu'))\n",
        "    model.add(layers.Dense(512, activation='relu'))\n",
        "    model.add(layers.Dense(10, activation='softmax'))\n",
        "    model.compile(optimizer='adam', loss='categorical_crossentropy', metrics=['accuracy'])\n",
        "    return model"
      ],
      "metadata": {
        "id": "KMLqTmo98bnn"
      },
      "execution_count": null,
      "outputs": []
    },
    {
      "cell_type": "code",
      "source": [
        "# 3. VGG-16\n",
        "vgg16_model = VGG16(weights='imagenet', include_top=False, input_shape=(224, 224, 3))\n",
        "vgg16_model.trainable = False"
      ],
      "metadata": {
        "id": "WMQ9YfLw8iAp",
        "colab": {
          "base_uri": "https://localhost:8080/"
        },
        "outputId": "c54889e2-5226-443e-f141-a577462603fa"
      },
      "execution_count": null,
      "outputs": [
        {
          "output_type": "stream",
          "name": "stdout",
          "text": [
            "Downloading data from https://storage.googleapis.com/tensorflow/keras-applications/vgg16/vgg16_weights_tf_dim_ordering_tf_kernels_notop.h5\n",
            "58889256/58889256 [==============================] - 0s 0us/step\n"
          ]
        }
      ]
    },
    {
      "cell_type": "code",
      "source": [
        "# 4. Inception-v1\n",
        "inception_model = InceptionV3(weights='imagenet', include_top=False, input_shape=(224, 224, 3))\n",
        "inception_model.trainable = False"
      ],
      "metadata": {
        "id": "FdGVnLYG7BvO",
        "colab": {
          "base_uri": "https://localhost:8080/"
        },
        "outputId": "e4a8eeaf-782c-405f-a419-6a8f0e7fb855"
      },
      "execution_count": null,
      "outputs": [
        {
          "output_type": "stream",
          "name": "stdout",
          "text": [
            "Downloading data from https://storage.googleapis.com/tensorflow/keras-applications/inception_v3/inception_v3_weights_tf_dim_ordering_tf_kernels_notop.h5\n",
            "87910968/87910968 [==============================] - 0s 0us/step\n"
          ]
        }
      ]
    },
    {
      "cell_type": "code",
      "source": [
        "# 5. ResNet-50\n",
        "resnet50_model = ResNet50(weights='imagenet', include_top=False, input_shape=(224, 224, 3))\n",
        "resnet50_model.trainable = False"
      ],
      "metadata": {
        "id": "V5_xtA4w7Ghi",
        "colab": {
          "base_uri": "https://localhost:8080/"
        },
        "outputId": "46f275fa-a2e2-4ddc-9f9f-66dd952d1948"
      },
      "execution_count": null,
      "outputs": [
        {
          "output_type": "stream",
          "name": "stdout",
          "text": [
            "Downloading data from https://storage.googleapis.com/tensorflow/keras-applications/resnet/resnet50_weights_tf_dim_ordering_tf_kernels_notop.h5\n",
            "94765736/94765736 [==============================] - 0s 0us/step\n"
          ]
        }
      ]
    },
    {
      "cell_type": "code",
      "source": [
        "def build_model(base_model, input_shape=(224, 224, 3)):\n",
        "    model = models.Sequential([\n",
        "        base_model,\n",
        "        layers.Flatten(),\n",
        "        layers.Dense(128, activation='relu'),\n",
        "        layers.Dense(10, activation='softmax')\n",
        "    ])\n",
        "    model.compile(optimizer='adam', loss='categorical_crossentropy', metrics=['accuracy'])\n",
        "    return model"
      ],
      "metadata": {
        "id": "7uA8gH4qtscq"
      },
      "execution_count": null,
      "outputs": []
    },
    {
      "cell_type": "code",
      "source": [
        "lenet5_model = lenet5()\n",
        "alexnet_model = alexnet()\n",
        "vgg16_fine_tuned = build_model(vgg16_model)\n",
        "inception_fine_tuned = build_model(inception_model)\n",
        "resnet50_fine_tuned = build_model(resnet50_model)"
      ],
      "metadata": {
        "id": "gi2Lme6o9Bhx"
      },
      "execution_count": null,
      "outputs": []
    },
    {
      "cell_type": "code",
      "source": [
        "def train_and_evaluate(model, x_train, y_train, x_test, y_test, model_name):\n",
        "    print(f\"Training {model_name}...\")\n",
        "    model.fit(x_train, y_train, epochs=5, batch_size=20, validation_split=0.2)\n",
        "    loss, accuracy = model.evaluate(x_test, y_test)\n",
        "    print(f\"{model_name} Test Accuracy: {accuracy:.4f}\")\n",
        "    return accuracy"
      ],
      "metadata": {
        "id": "W-8yWReT9Mkh"
      },
      "execution_count": null,
      "outputs": []
    },
    {
      "cell_type": "code",
      "source": [
        "accuracies = {}\n",
        "accuracies['LeNet-5'] = train_and_evaluate(lenet5_model, x_train_subset, y_train_subset, x_test, y_test, \"LeNet-5\")\n",
        "accuracies['AlexNet'] = train_and_evaluate(alexnet_model, x_train_subset, y_train_subset, x_test, y_test, \"AlexNet\")\n",
        "accuracies['VGG-16'] = train_and_evaluate(vgg16_fine_tuned, x_train_resized_subset, y_train_subset, x_test_resized, y_test, \"VGG-16\")\n",
        "accuracies['Inception-v1'] = train_and_evaluate(inception_fine_tuned, x_train_resized_subset, y_train_subset, x_test_resized, y_test, \"Inception-v1\")\n",
        "accuracies['ResNet-50'] = train_and_evaluate(resnet50_fine_tuned, x_train_resized_subset, y_train_subset, x_test_resized, y_test, \"ResNet-50\")"
      ],
      "metadata": {
        "id": "rkz6dkpqt8bx",
        "colab": {
          "base_uri": "https://localhost:8080/"
        },
        "outputId": "e308e88b-f4aa-4547-987d-1e6e3e2bc198"
      },
      "execution_count": null,
      "outputs": [
        {
          "output_type": "stream",
          "name": "stdout",
          "text": [
            "Training LeNet-5...\n",
            "Epoch 1/5\n",
            "400/400 [==============================] - 4s 8ms/step - loss: 1.5434 - accuracy: 0.4676 - val_loss: 1.6488 - val_accuracy: 0.4185\n",
            "Epoch 2/5\n",
            "400/400 [==============================] - 3s 8ms/step - loss: 1.4787 - accuracy: 0.4860 - val_loss: 1.5943 - val_accuracy: 0.4465\n",
            "Epoch 3/5\n",
            "400/400 [==============================] - 3s 8ms/step - loss: 1.4043 - accuracy: 0.5131 - val_loss: 1.5826 - val_accuracy: 0.4435\n",
            "Epoch 4/5\n",
            "400/400 [==============================] - 3s 8ms/step - loss: 1.3307 - accuracy: 0.5339 - val_loss: 1.5580 - val_accuracy: 0.4595\n",
            "Epoch 5/5\n",
            "400/400 [==============================] - 3s 8ms/step - loss: 1.2474 - accuracy: 0.5711 - val_loss: 1.5538 - val_accuracy: 0.4585\n",
            "313/313 [==============================] - 1s 4ms/step - loss: 1.5638 - accuracy: 0.4573\n",
            "LeNet-5 Test Accuracy: 0.4573\n",
            "Training AlexNet...\n",
            "Epoch 1/5\n",
            "400/400 [==============================] - 14s 33ms/step - loss: 2.0398 - accuracy: 0.2264 - val_loss: 1.8459 - val_accuracy: 0.3020\n",
            "Epoch 2/5\n",
            "400/400 [==============================] - 13s 32ms/step - loss: 1.7612 - accuracy: 0.3377 - val_loss: 1.6053 - val_accuracy: 0.3855\n",
            "Epoch 3/5\n",
            "400/400 [==============================] - 13s 32ms/step - loss: 1.6055 - accuracy: 0.3983 - val_loss: 1.5757 - val_accuracy: 0.4150\n",
            "Epoch 4/5\n",
            "400/400 [==============================] - 13s 32ms/step - loss: 1.4658 - accuracy: 0.4519 - val_loss: 1.4401 - val_accuracy: 0.4490\n",
            "Epoch 5/5\n",
            "400/400 [==============================] - 13s 32ms/step - loss: 1.3631 - accuracy: 0.4927 - val_loss: 1.3725 - val_accuracy: 0.5135\n",
            "313/313 [==============================] - 4s 14ms/step - loss: 1.4016 - accuracy: 0.5004\n",
            "AlexNet Test Accuracy: 0.5004\n",
            "Training VGG-16...\n",
            "Epoch 1/5\n",
            "400/400 [==============================] - 200s 499ms/step - loss: 1.6550 - accuracy: 0.4199 - val_loss: 1.2924 - val_accuracy: 0.5380\n",
            "Epoch 2/5\n",
            "400/400 [==============================] - 197s 492ms/step - loss: 1.1125 - accuracy: 0.6159 - val_loss: 1.0810 - val_accuracy: 0.6285\n",
            "Epoch 3/5\n",
            "400/400 [==============================] - 201s 502ms/step - loss: 0.9118 - accuracy: 0.6827 - val_loss: 1.0427 - val_accuracy: 0.6275\n",
            "Epoch 4/5\n",
            "400/400 [==============================] - 199s 498ms/step - loss: 0.7778 - accuracy: 0.7312 - val_loss: 1.0064 - val_accuracy: 0.6550\n",
            "Epoch 5/5\n",
            "400/400 [==============================] - 201s 502ms/step - loss: 0.6667 - accuracy: 0.7711 - val_loss: 0.9857 - val_accuracy: 0.6720\n",
            "313/313 [==============================] - 191s 608ms/step - loss: 1.0265 - accuracy: 0.6520\n",
            "VGG-16 Test Accuracy: 0.6520\n",
            "Training Inception-v1...\n",
            "Epoch 1/5\n",
            "400/400 [==============================] - 87s 209ms/step - loss: 2.0818 - accuracy: 0.6480 - val_loss: 1.0102 - val_accuracy: 0.7225\n",
            "Epoch 2/5\n",
            "400/400 [==============================] - 81s 203ms/step - loss: 0.6017 - accuracy: 0.8195 - val_loss: 0.9673 - val_accuracy: 0.7340\n",
            "Epoch 3/5\n",
            "400/400 [==============================] - 80s 201ms/step - loss: 0.3795 - accuracy: 0.8740 - val_loss: 0.8514 - val_accuracy: 0.7805\n",
            "Epoch 4/5\n",
            "400/400 [==============================] - 79s 198ms/step - loss: 0.2286 - accuracy: 0.9226 - val_loss: 0.8188 - val_accuracy: 0.7835\n",
            "Epoch 5/5\n",
            "400/400 [==============================] - 80s 199ms/step - loss: 0.1940 - accuracy: 0.9333 - val_loss: 0.9564 - val_accuracy: 0.7815\n",
            "313/313 [==============================] - 60s 188ms/step - loss: 1.0090 - accuracy: 0.7811\n",
            "Inception-v1 Test Accuracy: 0.7811\n",
            "Training ResNet-50...\n",
            "Epoch 1/5\n",
            "400/400 [==============================] - 192s 468ms/step - loss: 2.5531 - accuracy: 0.0975 - val_loss: 2.3025 - val_accuracy: 0.0990\n",
            "Epoch 2/5\n",
            "400/400 [==============================] - 185s 464ms/step - loss: 2.3026 - accuracy: 0.1020 - val_loss: 2.3024 - val_accuracy: 0.0990\n",
            "Epoch 3/5\n",
            "400/400 [==============================] - 186s 466ms/step - loss: 2.3026 - accuracy: 0.1016 - val_loss: 2.3024 - val_accuracy: 0.0990\n",
            "Epoch 4/5\n",
            "400/400 [==============================] - 183s 458ms/step - loss: 2.3026 - accuracy: 0.1040 - val_loss: 2.3022 - val_accuracy: 0.0990\n",
            "Epoch 5/5\n",
            "400/400 [==============================] - 185s 462ms/step - loss: 2.3025 - accuracy: 0.1040 - val_loss: 2.3022 - val_accuracy: 0.0990\n",
            "313/313 [==============================] - 173s 548ms/step - loss: 2.3029 - accuracy: 0.1000\n",
            "ResNet-50 Test Accuracy: 0.1000\n"
          ]
        }
      ]
    },
    {
      "cell_type": "code",
      "source": [
        "plt.figure(figsize=(10, 5))\n",
        "plt.bar(accuracies.keys(), accuracies.values(), color=['blue', 'green', 'orange', 'red', 'purple'])\n",
        "plt.xlabel('Model')\n",
        "plt.ylabel('Accuracy')\n",
        "plt.title('Comparison of Pre-trained Models on CIFAR-10')\n",
        "plt.show()"
      ],
      "metadata": {
        "id": "T_lHW4Hg9wvD",
        "colab": {
          "base_uri": "https://localhost:8080/",
          "height": 487
        },
        "outputId": "7c2575d4-6594-44e4-c9f8-f124ba1b291d"
      },
      "execution_count": null,
      "outputs": [
        {
          "output_type": "display_data",
          "data": {
            "text/plain": [
              "<Figure size 1000x500 with 1 Axes>"
            ],
            "image/png": "[encoded data removed]"
          },
          "metadata": {}
        }
      ]
    },
    {
      "cell_type": "markdown",
      "source": [
        "**Conclusion:**\n",
        "\n",
        "* The highest accuracy was of Inception-v1, followed by VGG-16.\n",
        "* The lowest accuracy was of ResNet-50.\n",
        "* VGG-16 took the longest time to train, while Lenet-50 took the shortest."
      ],
      "metadata": {
        "id": "g30Nmhb9z6Q5"
      }
    }
  ]
}